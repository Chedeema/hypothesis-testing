{
 "cells": [
  {
   "cell_type": "code",
   "execution_count": 46,
   "id": "42b5b254-eae6-4939-b1f1-f3eb850e0d18",
   "metadata": {},
   "outputs": [],
   "source": [
    "import pandas as pd\n",
    "import scipy.stats as stats\n",
    "from scipy.stats import pearsonr\n",
    "from scipy.stats import spearmanr"
   ]
  },
  {
   "cell_type": "code",
   "execution_count": 6,
   "id": "7da1e89b-880c-43c0-9990-9f0c66c192d1",
   "metadata": {},
   "outputs": [
    {
     "data": {
      "text/html": [
       "<div>\n",
       "<style scoped>\n",
       "    .dataframe tbody tr th:only-of-type {\n",
       "        vertical-align: middle;\n",
       "    }\n",
       "\n",
       "    .dataframe tbody tr th {\n",
       "        vertical-align: top;\n",
       "    }\n",
       "\n",
       "    .dataframe thead th {\n",
       "        text-align: right;\n",
       "    }\n",
       "</style>\n",
       "<table border=\"1\" class=\"dataframe\">\n",
       "  <thead>\n",
       "    <tr style=\"text-align: right;\">\n",
       "      <th></th>\n",
       "      <th>Campaign ID</th>\n",
       "      <th>Budget (USD)</th>\n",
       "      <th>Clicks</th>\n",
       "      <th>Impressions</th>\n",
       "      <th>Conversions</th>\n",
       "      <th>Region</th>\n",
       "      <th>Date</th>\n",
       "    </tr>\n",
       "  </thead>\n",
       "  <tbody>\n",
       "    <tr>\n",
       "      <th>0</th>\n",
       "      <td>1</td>\n",
       "      <td>8270</td>\n",
       "      <td>1943</td>\n",
       "      <td>92747</td>\n",
       "      <td>386</td>\n",
       "      <td>South</td>\n",
       "      <td>2023-01-01</td>\n",
       "    </tr>\n",
       "    <tr>\n",
       "      <th>1</th>\n",
       "      <td>2</td>\n",
       "      <td>1860</td>\n",
       "      <td>588</td>\n",
       "      <td>63752</td>\n",
       "      <td>460</td>\n",
       "      <td>South</td>\n",
       "      <td>2023-01-02</td>\n",
       "    </tr>\n",
       "    <tr>\n",
       "      <th>2</th>\n",
       "      <td>3</td>\n",
       "      <td>6390</td>\n",
       "      <td>3076</td>\n",
       "      <td>57573</td>\n",
       "      <td>347</td>\n",
       "      <td>East</td>\n",
       "      <td>2023-01-03</td>\n",
       "    </tr>\n",
       "    <tr>\n",
       "      <th>3</th>\n",
       "      <td>4</td>\n",
       "      <td>6191</td>\n",
       "      <td>2059</td>\n",
       "      <td>60101</td>\n",
       "      <td>189</td>\n",
       "      <td>East</td>\n",
       "      <td>2023-01-04</td>\n",
       "    </tr>\n",
       "    <tr>\n",
       "      <th>4</th>\n",
       "      <td>5</td>\n",
       "      <td>6734</td>\n",
       "      <td>2485</td>\n",
       "      <td>27646</td>\n",
       "      <td>190</td>\n",
       "      <td>East</td>\n",
       "      <td>2023-01-05</td>\n",
       "    </tr>\n",
       "    <tr>\n",
       "      <th>...</th>\n",
       "      <td>...</td>\n",
       "      <td>...</td>\n",
       "      <td>...</td>\n",
       "      <td>...</td>\n",
       "      <td>...</td>\n",
       "      <td>...</td>\n",
       "      <td>...</td>\n",
       "    </tr>\n",
       "    <tr>\n",
       "      <th>195</th>\n",
       "      <td>196</td>\n",
       "      <td>7546</td>\n",
       "      <td>4648</td>\n",
       "      <td>14116</td>\n",
       "      <td>251</td>\n",
       "      <td>North</td>\n",
       "      <td>2023-07-15</td>\n",
       "    </tr>\n",
       "    <tr>\n",
       "      <th>196</th>\n",
       "      <td>197</td>\n",
       "      <td>2986</td>\n",
       "      <td>3059</td>\n",
       "      <td>26470</td>\n",
       "      <td>225</td>\n",
       "      <td>North</td>\n",
       "      <td>2023-07-16</td>\n",
       "    </tr>\n",
       "    <tr>\n",
       "      <th>197</th>\n",
       "      <td>198</td>\n",
       "      <td>9338</td>\n",
       "      <td>2365</td>\n",
       "      <td>43344</td>\n",
       "      <td>293</td>\n",
       "      <td>South</td>\n",
       "      <td>2023-07-17</td>\n",
       "    </tr>\n",
       "    <tr>\n",
       "      <th>198</th>\n",
       "      <td>199</td>\n",
       "      <td>3911</td>\n",
       "      <td>2579</td>\n",
       "      <td>43918</td>\n",
       "      <td>305</td>\n",
       "      <td>North</td>\n",
       "      <td>2023-07-18</td>\n",
       "    </tr>\n",
       "    <tr>\n",
       "      <th>199</th>\n",
       "      <td>200</td>\n",
       "      <td>2734</td>\n",
       "      <td>4746</td>\n",
       "      <td>53224</td>\n",
       "      <td>97</td>\n",
       "      <td>South</td>\n",
       "      <td>2023-07-19</td>\n",
       "    </tr>\n",
       "  </tbody>\n",
       "</table>\n",
       "<p>200 rows × 7 columns</p>\n",
       "</div>"
      ],
      "text/plain": [
       "     Campaign ID  Budget (USD)  Clicks  Impressions  Conversions Region  \\\n",
       "0              1          8270    1943        92747          386  South   \n",
       "1              2          1860     588        63752          460  South   \n",
       "2              3          6390    3076        57573          347   East   \n",
       "3              4          6191    2059        60101          189   East   \n",
       "4              5          6734    2485        27646          190   East   \n",
       "..           ...           ...     ...          ...          ...    ...   \n",
       "195          196          7546    4648        14116          251  North   \n",
       "196          197          2986    3059        26470          225  North   \n",
       "197          198          9338    2365        43344          293  South   \n",
       "198          199          3911    2579        43918          305  North   \n",
       "199          200          2734    4746        53224           97  South   \n",
       "\n",
       "           Date  \n",
       "0    2023-01-01  \n",
       "1    2023-01-02  \n",
       "2    2023-01-03  \n",
       "3    2023-01-04  \n",
       "4    2023-01-05  \n",
       "..          ...  \n",
       "195  2023-07-15  \n",
       "196  2023-07-16  \n",
       "197  2023-07-17  \n",
       "198  2023-07-18  \n",
       "199  2023-07-19  \n",
       "\n",
       "[200 rows x 7 columns]"
      ]
     },
     "execution_count": 6,
     "metadata": {},
     "output_type": "execute_result"
    }
   ],
   "source": [
    "data = pd.read_csv('marketing_company_data.csv')\n",
    "data"
   ]
  },
  {
   "cell_type": "markdown",
   "id": "8de95ec5-ef5a-4252-9b09-4e09cb4987e6",
   "metadata": {},
   "source": [
    "## 1. T-tests\n",
    "A T-test is used to determine if there is a significant difference between the means of two groups. In Python, we can use scipy.stats.ttest_ind for independent samples T-test.\n",
    "\n",
    "##### Example:\n",
    "Suppose you want to test if the average Clicks are significantly different between the East and West regions."
   ]
  },
  {
   "cell_type": "markdown",
   "id": "baeca316-1f9b-4a04-a04d-6694f3c292a4",
   "metadata": {},
   "source": [
    "##### Filter data for the two regions"
   ]
  },
  {
   "cell_type": "code",
   "execution_count": 8,
   "id": "7545a841-f035-4711-9b74-91384370ee5f",
   "metadata": {},
   "outputs": [],
   "source": [
    "east_clicks = data[data['Region'] == 'East']['Clicks']\n",
    "west_clicks = data[data['Region'] == 'West']['Clicks']"
   ]
  },
  {
   "cell_type": "markdown",
   "id": "0d5240b7-9237-415a-b4ed-8e4b7cb155c8",
   "metadata": {},
   "source": [
    "##### perform an independent T-Test"
   ]
  },
  {
   "cell_type": "code",
   "execution_count": 10,
   "id": "950fec6e-c9b5-460f-b4a7-194747f4a771",
   "metadata": {},
   "outputs": [
    {
     "name": "stdout",
     "output_type": "stream",
     "text": [
      "T-statistic: -0.8244695015088567, P-value: 0.41180530825950423\n"
     ]
    }
   ],
   "source": [
    "t_stat, p_value = stats.ttest_ind(east_clicks, west_clicks)\n",
    "print(f\"T-statistic: {t_stat}, P-value: {p_value}\")"
   ]
  },
  {
   "cell_type": "markdown",
   "id": "7ddcabf8-e0a5-4def-a5b2-62507f516c1e",
   "metadata": {},
   "source": [
    "##### Interpret the results:"
   ]
  },
  {
   "cell_type": "markdown",
   "id": "888cfa6b-2fe1-423c-9b8c-21955876f4fb",
   "metadata": {},
   "source": [
    "If p_value < 0.05, you reject the null hypothesis (i.e., the average Clicks are different between the two regions).\n",
    "If p_value >= 0.05, you fail to reject the null hypothesis."
   ]
  },
  {
   "cell_type": "markdown",
   "id": "8fd6e3ef-b0e6-4772-8a09-cd4a1df9a2b2",
   "metadata": {},
   "source": [
    "## 2. Chi-square Test\n",
    "A Chi-square test examines the relationship between two categorical variables. In Python, you can use scipy.stats.chi2_contingency.\n",
    "\n",
    "##### Example:\n",
    "Testing if there is a relationship between Region and whether Conversions are above or below the median."
   ]
  },
  {
   "cell_type": "markdown",
   "id": "aadeff9c-b316-4c7c-9979-3c2177bfc862",
   "metadata": {},
   "source": [
    "##### Create a categorical variable for Conversions:"
   ]
  },
  {
   "cell_type": "code",
   "execution_count": 13,
   "id": "a71545b4-a162-43dd-8785-87233c827896",
   "metadata": {},
   "outputs": [],
   "source": [
    "data['High_Conversions'] = data['Conversions'] > data['Conversions'].median()"
   ]
  },
  {
   "cell_type": "markdown",
   "id": "08eae0b9-cad6-4cc4-b393-1e06a8eb63bf",
   "metadata": {},
   "source": [
    "##### Create a contingency table"
   ]
  },
  {
   "cell_type": "code",
   "execution_count": 15,
   "id": "020e53b7-65c2-4ac7-a371-4be99e108cdd",
   "metadata": {},
   "outputs": [],
   "source": [
    "contingency_table = pd.crosstab(data['Region'], data['High_Conversions'])"
   ]
  },
  {
   "cell_type": "markdown",
   "id": "da2fd8a9-f489-455e-a200-e809d6992ad0",
   "metadata": {},
   "source": [
    "##### Perform the Chi-square test:"
   ]
  },
  {
   "cell_type": "code",
   "execution_count": 17,
   "id": "05180080-5ee5-4d7f-bcb8-0505f263e41e",
   "metadata": {},
   "outputs": [
    {
     "name": "stdout",
     "output_type": "stream",
     "text": [
      "Chi-square statistic: 1.6065342798016067, P-value: 0.6579091248139446\n"
     ]
    }
   ],
   "source": [
    "chi2_stat, p, dof, expected = stats.chi2_contingency(contingency_table)\n",
    "print(f\"Chi-square statistic: {chi2_stat}, P-value: {p}\")"
   ]
  },
  {
   "cell_type": "markdown",
   "id": "9848c95b-f7de-4c1a-83aa-1f35b3dbc6bd",
   "metadata": {},
   "source": [
    "##### Interpret the results:"
   ]
  },
  {
   "cell_type": "markdown",
   "id": "eb42b7c8-3255-4d46-bfb3-76a7feaab445",
   "metadata": {},
   "source": [
    "If p < 0.05, there is a relationship between Region and Conversions.\n",
    "If p >= 0.05, no significant relationship exists."
   ]
  },
  {
   "cell_type": "markdown",
   "id": "aad622f3-eca1-4284-8543-f871c35efdfe",
   "metadata": {},
   "source": [
    "## 3. ANOVA (Analysis of Variance)\n",
    "ANOVA is used to compare the means of more than two groups. In Python, use scipy.stats.f_oneway.\n",
    "\n",
    "##### Example:\n",
    "Testing if there is a difference in mean Impressions across different regions."
   ]
  },
  {
   "cell_type": "markdown",
   "id": "797e0e5a-bd57-4e2d-9457-9aa9bb06fe5f",
   "metadata": {},
   "source": [
    "##### Filter the data for each region:"
   ]
  },
  {
   "cell_type": "code",
   "execution_count": 22,
   "id": "0c7c0afe-5fc9-40e6-b3f4-546d66d57d59",
   "metadata": {},
   "outputs": [],
   "source": [
    "south_impressions = data[data['Region'] == 'South']['Impressions']\n",
    "north_impressions = data[data['Region'] == 'North']['Impressions']\n",
    "east_impressions = data[data['Region'] == 'East']['Impressions']\n",
    "west_impressions = data[data['Region'] == 'West']['Impressions']"
   ]
  },
  {
   "cell_type": "markdown",
   "id": "cf952a09-1f4e-4b12-b079-e3cfa9362cd7",
   "metadata": {},
   "source": [
    "##### Perform the ANOVA test:"
   ]
  },
  {
   "cell_type": "code",
   "execution_count": 24,
   "id": "0c5bede1-bb3b-478c-bab8-1ffc9f696079",
   "metadata": {},
   "outputs": [
    {
     "name": "stdout",
     "output_type": "stream",
     "text": [
      "F-statistic: 2.49256151042264, P-value: 0.06134359015485362\n"
     ]
    }
   ],
   "source": [
    "f_stat, p_value = stats.f_oneway(south_impressions, north_impressions, east_impressions, west_impressions)\n",
    "print(f\"F-statistic: {f_stat}, P-value: {p_value}\")\n"
   ]
  },
  {
   "cell_type": "markdown",
   "id": "c052eb67-eb7c-45e9-8921-1b1d5c9c9d84",
   "metadata": {},
   "source": [
    "##### Interpret the results:"
   ]
  },
  {
   "cell_type": "markdown",
   "id": "daaece44-9e94-41bc-ace7-93007009f370",
   "metadata": {},
   "source": [
    "If p_value < 0.05, at least one group mean is significantly different.\n",
    "If p_value >= 0.05, no significant difference in means.\n"
   ]
  },
  {
   "cell_type": "markdown",
   "id": "0023def0-ec26-4ace-9e89-26a23daabfd6",
   "metadata": {},
   "source": [
    "## 1. Pearson Correlation\r\n",
    "Pearson correlation measures the linear relationship between two variables. Use scipy.stats.pearsonr to calculate the correlation coefficient.\r",
    "##### \n",
    "\r\n",
    "Example:\r\n",
    "Find the correlation between Budget and Conversions."
   ]
  },
  {
   "cell_type": "code",
   "execution_count": 38,
   "id": "2a9925a6-3fb6-4906-9ae8-e705b5de14a6",
   "metadata": {},
   "outputs": [
    {
     "name": "stdout",
     "output_type": "stream",
     "text": [
      "Pearson Correlation: 0.06073416629740151, P-value: 0.3929298642553684\n"
     ]
    }
   ],
   "source": [
    "\n",
    "correlation, p_value = pearsonr(data['Budget (USD)'], data['Conversions'])\n",
    "print(f\"Pearson Correlation: {correlation}, P-value: {p_value}\")"
   ]
  },
  {
   "cell_type": "markdown",
   "id": "ca428905-6d72-4366-b71f-043bda7a3c77",
   "metadata": {},
   "source": [
    "##### Interpret the results:"
   ]
  },
  {
   "cell_type": "markdown",
   "id": "2b915916-579e-49b4-83b3-6cf0803c5b10",
   "metadata": {},
   "source": [
    "\n",
    "If p_value < 0.05, the correlation is statistically significant.\n",
    "The correlation coefficient value lies between -1 (perfect negative) and 1 (perfect positive)."
   ]
  },
  {
   "cell_type": "markdown",
   "id": "ebe13017-4583-4b9f-b986-e2c6df732f40",
   "metadata": {},
   "source": [
    "## 2. Spearman Correlation\n",
    "Spearman correlation measures the rank-order relationship between two variables. Use scipy.stats.spearmanr.\n",
    "\n",
    "##### Example:\n",
    "Find the Spearman correlation between Clicks and Impressions."
   ]
  },
  {
   "cell_type": "code",
   "execution_count": 44,
   "id": "b95ac6d2-0e9a-49a9-a103-ddfcfd0ff0d4",
   "metadata": {},
   "outputs": [
    {
     "name": "stdout",
     "output_type": "stream",
     "text": [
      "Spearman Correlation: -0.0455502754079164, P-value: 0.521865148062953\n"
     ]
    }
   ],
   "source": [
    "\n",
    "correlation, p_value = spearmanr(data['Clicks'], data['Impressions'])\n",
    "print(f\"Spearman Correlation: {correlation}, P-value: {p_value}\")"
   ]
  },
  {
   "cell_type": "code",
   "execution_count": null,
   "id": "56a2c742-f455-402f-90b2-3902d9ef241f",
   "metadata": {},
   "outputs": [],
   "source": [
    "TASKS"
   ]
  },
  {
   "cell_type": "markdown",
   "id": "1e8edc34-3cb1-4727-bfca-96e9884c62a1",
   "metadata": {},
   "source": [
    "- T-tests: Comparing Conversions in different regions.\n",
    "- Chi-square tests: Analyzing the relationship between Region and high/low Impressions.\n",
    "- ANOVA: Testing for differences in Budget (USD) across regions.\n",
    "- Correlation analysis: Exploring relationships between Impressions, Clicks, and Conversions."
   ]
  }
 ],
 "metadata": {
  "kernelspec": {
   "display_name": "Python 3 (ipykernel)",
   "language": "python",
   "name": "python3"
  },
  "language_info": {
   "codemirror_mode": {
    "name": "ipython",
    "version": 3
   },
   "file_extension": ".py",
   "mimetype": "text/x-python",
   "name": "python",
   "nbconvert_exporter": "python",
   "pygments_lexer": "ipython3",
   "version": "3.12.4"
  }
 },
 "nbformat": 4,
 "nbformat_minor": 5
}
